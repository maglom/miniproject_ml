{
 "cells": [
  {
   "cell_type": "code",
   "execution_count": 1,
   "metadata": {},
   "outputs": [
    {
     "ename": "OSError",
     "evalue": "Could not find kaggle.json. Make sure it's located in /Users/magnusgreve/.kaggle. Or use the environment method.",
     "output_type": "error",
     "traceback": [
      "\u001b[0;31m---------------------------------------------------------------------------\u001b[0m",
      "\u001b[0;31mOSError\u001b[0m                                   Traceback (most recent call last)",
      "\u001b[1;32m/Users/magnusgreve/Python/Code/miniprioject_ls/data.ipynb Cell 1\u001b[0m in \u001b[0;36m<cell line: 1>\u001b[0;34m()\u001b[0m\n\u001b[0;32m----> <a href='vscode-notebook-cell:/Users/magnusgreve/Python/Code/miniprioject_ls/data.ipynb#ch0000000?line=0'>1</a>\u001b[0m \u001b[39mimport\u001b[39;00m \u001b[39mkaggle\u001b[39;00m\n\u001b[1;32m      <a href='vscode-notebook-cell:/Users/magnusgreve/Python/Code/miniprioject_ls/data.ipynb#ch0000000?line=2'>3</a>\u001b[0m kaggle\u001b[39m.\u001b[39mapi\u001b[39m.\u001b[39mauthenticate()\n\u001b[1;32m      <a href='vscode-notebook-cell:/Users/magnusgreve/Python/Code/miniprioject_ls/data.ipynb#ch0000000?line=4'>5</a>\u001b[0m kaggle\u001b[39m.\u001b[39mapi\u001b[39m.\u001b[39mdataset_download_files(\u001b[39m'\u001b[39m\u001b[39mThe_name_of_the_dataset\u001b[39m\u001b[39m'\u001b[39m, path\u001b[39m=\u001b[39m\u001b[39m'\u001b[39m\u001b[39mthe_path_you_want_to_download_the_files_to\u001b[39m\u001b[39m'\u001b[39m, unzip\u001b[39m=\u001b[39m\u001b[39mTrue\u001b[39;00m)\n",
      "File \u001b[0;32m/Library/Frameworks/Python.framework/Versions/3.9/lib/python3.9/site-packages/kaggle/__init__.py:23\u001b[0m, in \u001b[0;36m<module>\u001b[0;34m\u001b[0m\n\u001b[1;32m     20\u001b[0m \u001b[39mfrom\u001b[39;00m \u001b[39mkaggle\u001b[39;00m\u001b[39m.\u001b[39;00m\u001b[39mapi_client\u001b[39;00m \u001b[39mimport\u001b[39;00m ApiClient\n\u001b[1;32m     22\u001b[0m api \u001b[39m=\u001b[39m KaggleApi(ApiClient())\n\u001b[0;32m---> 23\u001b[0m api\u001b[39m.\u001b[39;49mauthenticate()\n",
      "File \u001b[0;32m/Library/Frameworks/Python.framework/Versions/3.9/lib/python3.9/site-packages/kaggle/api/kaggle_api_extended.py:164\u001b[0m, in \u001b[0;36mKaggleApi.authenticate\u001b[0;34m(self)\u001b[0m\n\u001b[1;32m    162\u001b[0m         config_data \u001b[39m=\u001b[39m \u001b[39mself\u001b[39m\u001b[39m.\u001b[39mread_config_file(config_data)\n\u001b[1;32m    163\u001b[0m     \u001b[39melse\u001b[39;00m:\n\u001b[0;32m--> 164\u001b[0m         \u001b[39mraise\u001b[39;00m \u001b[39mIOError\u001b[39;00m(\u001b[39m'\u001b[39m\u001b[39mCould not find \u001b[39m\u001b[39m{}\u001b[39;00m\u001b[39m. Make sure it\u001b[39m\u001b[39m\\'\u001b[39;00m\u001b[39ms located in\u001b[39m\u001b[39m'\u001b[39m\n\u001b[1;32m    165\u001b[0m                       \u001b[39m'\u001b[39m\u001b[39m \u001b[39m\u001b[39m{}\u001b[39;00m\u001b[39m. Or use the environment method.\u001b[39m\u001b[39m'\u001b[39m\u001b[39m.\u001b[39mformat(\n\u001b[1;32m    166\u001b[0m                           \u001b[39mself\u001b[39m\u001b[39m.\u001b[39mconfig_file, \u001b[39mself\u001b[39m\u001b[39m.\u001b[39mconfig_dir))\n\u001b[1;32m    168\u001b[0m \u001b[39m# Step 3: load into configuration!\u001b[39;00m\n\u001b[1;32m    169\u001b[0m \u001b[39mself\u001b[39m\u001b[39m.\u001b[39m_load_config(config_data)\n",
      "\u001b[0;31mOSError\u001b[0m: Could not find kaggle.json. Make sure it's located in /Users/magnusgreve/.kaggle. Or use the environment method."
     ]
    }
   ],
   "source": [
    "import kaggle\n",
    "\n",
    "kaggle.api.authenticate()\n",
    "\n",
    "kaggle.api.dataset_download_files('The_name_of_the_dataset', path='the_path_you_want_to_download_the_files_to', unzip=True)\n"
   ]
  },
  {
   "cell_type": "code",
   "execution_count": null,
   "metadata": {},
   "outputs": [],
   "source": []
  }
 ],
 "metadata": {
  "kernelspec": {
   "display_name": "Python 3.9.1 64-bit",
   "language": "python",
   "name": "python3"
  },
  "language_info": {
   "codemirror_mode": {
    "name": "ipython",
    "version": 3
   },
   "file_extension": ".py",
   "mimetype": "text/x-python",
   "name": "python",
   "nbconvert_exporter": "python",
   "pygments_lexer": "ipython3",
   "version": "3.9.1"
  },
  "orig_nbformat": 4,
  "vscode": {
   "interpreter": {
    "hash": "397704579725e15f5c7cb49fe5f0341eb7531c82d19f2c29d197e8b64ab5776b"
   }
  }
 },
 "nbformat": 4,
 "nbformat_minor": 2
}
