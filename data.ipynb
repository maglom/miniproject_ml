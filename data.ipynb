{
 "cells": [
  {
   "cell_type": "code",
   "execution_count": 6,
   "metadata": {},
   "outputs": [],
   "source": [
    "import pandas as pd\n",
    "import numpy as np\n",
    "from sklearn.preprocessing import OneHotEncoder\n",
    "from sklearn.preprocessing import MinMaxScaler\n",
    "from sklearn.preprocessing import StandardScaler\n",
    "from sklearn.neighbors import KNeighborsRegressor\n",
    "from sklearn.linear_model import LinearRegression, LogisticRegression\n",
    "from sklearn.model_selection import train_test_split\n",
    "from sklearn.metrics import mean_squared_error, mean_absolute_error\n",
    "from sklearn.metrics import accuracy_score, confusion_matrix\n",
    "import seaborn\n",
    "\n",
    "\n",
    "sales_df = pd.read_csv('competitive-data-science-predict-future-sales/sales_train.csv')\n",
    "\n",
    "\n",
    "sales_df['date'] = pd.to_datetime(sales_df['date'], format='%d.%m.%Y')\n",
    "sales_df['year'] = sales_df['date'].dt.year\n",
    "sales_df['month'] = sales_df['date'].dt.month\n",
    "first = sales_df.pop('year')\n",
    "sales_df.insert(0,'year', first)\n",
    "first = sales_df.pop('month')\n",
    "sales_df.insert(1,'month', first)\n",
    "sales_df.drop('date', axis=1, inplace=True)\n",
    "sales_df.head(-5)"
   ]
  },
  {
   "cell_type": "code",
   "execution_count": 17,
   "metadata": {},
   "outputs": [
    {
     "name": "stdout",
     "output_type": "stream",
     "text": [
      "0.4444455066517307 6.852697567092753 0.445986844552136 6.858291440392096\n"
     ]
    }
   ],
   "source": [
    "\n",
    "\n",
    "X = sales_df.loc[:,sales_df.columns != 'item_cnt_day']\n",
    "y = sales_df['item_cnt_day']\n",
    "\n",
    "model = LinearRegression()\n",
    "model.fit(X,y)\n",
    "pred_y = model.predict(X)\n",
    "\n",
    "naive_y = np.full(len(y),np.mean(y))\n",
    "\n",
    "print(\n",
    "mean_absolute_error(y, pred_y),\n",
    "mean_squared_error(y, pred_y),\n",
    "\n",
    "mean_absolute_error(y, naive_y),\n",
    "mean_squared_error(y, naive_y))\n"
   ]
  },
  {
   "cell_type": "code",
   "execution_count": 8,
   "metadata": {},
   "outputs": [
    {
     "ename": "NameError",
     "evalue": "name 'items_df' is not defined",
     "output_type": "error",
     "traceback": [
      "\u001b[0;31m---------------------------------------------------------------------------\u001b[0m",
      "\u001b[0;31mNameError\u001b[0m                                 Traceback (most recent call last)",
      "\u001b[1;32m/Users/magnusgreve/Python/Code/miniprioject_ls/data.ipynb Cell 3\u001b[0m in \u001b[0;36m<cell line: 1>\u001b[0;34m()\u001b[0m\n\u001b[0;32m----> <a href='vscode-notebook-cell:/Users/magnusgreve/Python/Code/miniprioject_ls/data.ipynb#W2sZmlsZQ%3D%3D?line=0'>1</a>\u001b[0m merge \u001b[39m=\u001b[39m pd\u001b[39m.\u001b[39mmerge(sales_df, items_df,\u001b[39m'\u001b[39m\u001b[39mleft\u001b[39m\u001b[39m'\u001b[39m, on\u001b[39m=\u001b[39m\u001b[39m'\u001b[39m\u001b[39mitem_id\u001b[39m\u001b[39m'\u001b[39m)\n\u001b[1;32m      <a href='vscode-notebook-cell:/Users/magnusgreve/Python/Code/miniprioject_ls/data.ipynb#W2sZmlsZQ%3D%3D?line=1'>2</a>\u001b[0m merge\u001b[39m.\u001b[39mhead()\n",
      "\u001b[0;31mNameError\u001b[0m: name 'items_df' is not defined"
     ]
    }
   ],
   "source": [
    "merge = pd.merge(sales_df, items_df,'left', on='item_id')\n",
    "merge.head()"
   ]
  },
  {
   "cell_type": "code",
   "execution_count": null,
   "metadata": {},
   "outputs": [
    {
     "name": "stdout",
     "output_type": "stream",
     "text": [
      "<class 'pandas.core.frame.DataFrame'>\n",
      "Int64Index: 2935849 entries, 0 to 2935848\n",
      "Data columns (total 8 columns):\n",
      " #   Column            Dtype         \n",
      "---  ------            -----         \n",
      " 0   date              datetime64[ns]\n",
      " 1   date_block_num    int64         \n",
      " 2   shop_id           int64         \n",
      " 3   item_id           int64         \n",
      " 4   item_price        float64       \n",
      " 5   item_cnt_day      float64       \n",
      " 6   item_name         object        \n",
      " 7   item_category_id  int64         \n",
      "dtypes: datetime64[ns](1), float64(2), int64(4), object(1)\n",
      "memory usage: 201.6+ MB\n"
     ]
    }
   ],
   "source": [
    "merge['date'] = pd.to_datetime(sales_df['date'], format='%d.%m.%Y')\n",
    "merge.info()"
   ]
  },
  {
   "cell_type": "code",
   "execution_count": null,
   "metadata": {},
   "outputs": [],
   "source": [
    "merge['year'] = merge['date'].dt.year\n",
    "merge['month'] = merge['date'].dt.month"
   ]
  },
  {
   "cell_type": "code",
   "execution_count": null,
   "metadata": {},
   "outputs": [],
   "source": [
    "first = merge.pop('year')\n",
    "merge.insert(0,'year', first)\n",
    "first = merge.pop('month')\n",
    "merge.insert(1,'month', first)\n",
    "merge.drop('date', axis=1, inplace=True)"
   ]
  },
  {
   "cell_type": "code",
   "execution_count": null,
   "metadata": {},
   "outputs": [
    {
     "name": "stdout",
     "output_type": "stream",
     "text": [
      "<class 'pandas.core.frame.DataFrame'>\n",
      "MultiIndex: 1586 entries, (2013, 1, 0) to (2015, 10, 59)\n",
      "Data columns (total 5 columns):\n",
      " #   Column            Non-Null Count  Dtype  \n",
      "---  ------            --------------  -----  \n",
      " 0   date_block_num    1586 non-null   int64  \n",
      " 1   item_id           1586 non-null   int64  \n",
      " 2   item_price        1586 non-null   float64\n",
      " 3   item_cnt_day      1586 non-null   float64\n",
      " 4   item_category_id  1586 non-null   int64  \n",
      "dtypes: float64(2), int64(3)\n",
      "memory usage: 67.3 KB\n"
     ]
    }
   ],
   "source": [
    "merge = merge.groupby(['year', 'month', 'shop_id']).sum()\n",
    "merge.info()"
   ]
  },
  {
   "cell_type": "code",
   "execution_count": null,
   "metadata": {},
   "outputs": [],
   "source": []
  }
 ],
 "metadata": {
  "kernelspec": {
   "display_name": "Python 3.9.1 64-bit",
   "language": "python",
   "name": "python3"
  },
  "language_info": {
   "codemirror_mode": {
    "name": "ipython",
    "version": 3
   },
   "file_extension": ".py",
   "mimetype": "text/x-python",
   "name": "python",
   "nbconvert_exporter": "python",
   "pygments_lexer": "ipython3",
   "version": "3.9.1"
  },
  "orig_nbformat": 4,
  "vscode": {
   "interpreter": {
    "hash": "397704579725e15f5c7cb49fe5f0341eb7531c82d19f2c29d197e8b64ab5776b"
   }
  }
 },
 "nbformat": 4,
 "nbformat_minor": 2
}
